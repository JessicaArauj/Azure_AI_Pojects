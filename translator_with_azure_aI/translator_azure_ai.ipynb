{
 "cells": [
  {
   "cell_type": "markdown",
   "id": "3f919f5d",
   "metadata": {},
   "source": [
    "# Install"
   ]
  },
  {
   "cell_type": "code",
   "execution_count": 1,
   "id": "63669440",
   "metadata": {},
   "outputs": [],
   "source": [
    "!pip install -q --upgrade requests\n",
    "!pip install -q --upgrade PyPDF2\n",
    "!pip install -q --upgrade python-dotenv"
   ]
  },
  {
   "cell_type": "markdown",
   "id": "105ae3cb",
   "metadata": {},
   "source": [
    "# Imports"
   ]
  },
  {
   "cell_type": "code",
   "execution_count": null,
   "id": "21aaa5f1",
   "metadata": {},
   "outputs": [],
   "source": [
    "import os\n",
    "import requests\n",
    "from dotenv import load_dotenv\n",
    "from PyPDF2 import PdfReader\n",
    "from docx import Document"
   ]
  },
  {
   "cell_type": "markdown",
   "id": "db8095f4",
   "metadata": {},
   "source": [
    "# Functions"
   ]
  },
  {
   "cell_type": "code",
   "execution_count": 45,
   "id": "7320689a",
   "metadata": {},
   "outputs": [],
   "source": [
    "load_dotenv(\"data.env\")\n",
    "\n",
    "subscription_key = os.getenv(\"SUBSCRIPTION_KEY\")\n",
    "endpoint = os.getenv(\"ENDPOINT\")\n",
    "location = os.getenv(\"LOCATION\")\n",
    "target_language = 'pt-br'\n",
    "folder_path = '.'\n",
    "\n",
    "def translator_text(text, target_language):\n",
    "    path = '/translate'\n",
    "\n",
    "    constructed_url = endpoint + path\n",
    "\n",
    "    headers = {\n",
    "        'Ocp-Apim-Subscription-Key': subscription_key,\n",
    "        'Ocp-Apim-Subscription-Region': location,\n",
    "        'Content-Type': 'application/json',\n",
    "        'X-ClientTraceId': str(os.urandom(16))\n",
    "    }\n",
    "\n",
    "    body = [{'text': text}]\n",
    "    \n",
    "    params = {\n",
    "        'api-version': '3.0',\n",
    "        'from': 'en',\n",
    "        'to': target_language\n",
    "    }\n",
    "\n",
    "    request = requests.post(constructed_url, params=params, headers=headers, json=body)\n",
    "    response = request.json()\n",
    "\n",
    "    return response[0]['translations'][0]['text']"
   ]
  },
  {
   "cell_type": "code",
   "execution_count": 46,
   "id": "c7ff9461",
   "metadata": {},
   "outputs": [],
   "source": [
    "def translate_document(path, target_language):\n",
    "    reader = PdfReader(path)\n",
    "    full_text = []\n",
    "\n",
    "    for page in reader.pages:\n",
    "        page_text = page.extract_text()\n",
    "        if page_text:\n",
    "            translated_text = translator_document(page_text, target_language)\n",
    "            full_text.append(translated_text)\n",
    "\n",
    "    translated_doc = Document()\n",
    "    for paragraph in full_text:\n",
    "        translated_doc.add_paragraph(paragraph)\n",
    "\n",
    "    path_translated = path.replace('.pdf', f\"_{target_language}.docx\")\n",
    "    translated_doc.save(path_translated)\n",
    "\n",
    "    print(f\"Translated file saved: {path_translated}\")\n",
    "    return path_translated\n",
    "\n",
    "\n",
    "def translate_all_pdfs(folder_path, target_language):\n",
    "    pdf_files = [f for f in os.listdir(folder_path) if f.lower().endswith('.pdf')]\n",
    "    print(\"PDFs found:\", pdf_files)\n",
    "\n",
    "    translated_paths = []\n",
    "    for pdf_file in pdf_files:\n",
    "        pdf_path = os.path.join(folder_path, pdf_file)\n",
    "        translated_path = translate_document(pdf_path, target_language)\n",
    "        translated_paths.append(translated_path)\n",
    "\n",
    "    return translated_paths"
   ]
  },
  {
   "cell_type": "markdown",
   "id": "2797c803",
   "metadata": {},
   "source": [
    "# Use case"
   ]
  },
  {
   "cell_type": "code",
   "execution_count": null,
   "id": "8df15f5b",
   "metadata": {},
   "outputs": [],
   "source": [
    "translate_all_pdfs(folder_path, target_language)"
   ]
  }
 ],
 "metadata": {
  "kernelspec": {
   "display_name": "Python 3",
   "language": "python",
   "name": "python3"
  },
  "language_info": {
   "codemirror_mode": {
    "name": "ipython",
    "version": 3
   },
   "file_extension": ".py",
   "mimetype": "text/x-python",
   "name": "python",
   "nbconvert_exporter": "python",
   "pygments_lexer": "ipython3",
   "version": "3.13.7"
  }
 },
 "nbformat": 4,
 "nbformat_minor": 5
}
